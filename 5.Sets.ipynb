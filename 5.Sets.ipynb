{
 "cells": [
  {
   "cell_type": "markdown",
   "metadata": {},
   "source": [
    "## Sets\n",
    "- Ordered collection of data\n",
    "- No duplicates\n",
    "- No order\n",
    "- Mutable\n",
    "- Don't have index associated with values\n",
    "\n",
    "Sets are used to include membership testing and removal of duplicates.\n",
    "\n",
    "Data structures used in Sets is Hashing, a popular technique to perform insertion, deletion, and traversal in O(1) on average.\n",
    "\n",
    "Hashing is a data structure that is used to store data in a way that is efficient for searching and retrieval.\n",
    "\n",
    "If Multiple values are present at the same index position, then the value is appended to that index position, to form a Linked List."
   ]
  },
  {
   "cell_type": "code",
   "execution_count": 25,
   "metadata": {},
   "outputs": [
    {
     "name": "stdout",
     "output_type": "stream",
     "text": [
      "{1, 2, 3, 4, 5}\n",
      "<class 'set'>\n"
     ]
    }
   ],
   "source": [
    "# Creating a set\n",
    "my_set = {1, 1, 2, 2, 3, 4, 5}\n",
    "# Set removes the duplicate values\n",
    "print(my_set)\n",
    "print(type(my_set))"
   ]
  },
  {
   "cell_type": "code",
   "execution_count": 26,
   "metadata": {},
   "outputs": [
    {
     "name": "stdout",
     "output_type": "stream",
     "text": [
      "Item added to set {1, 2, 3, 4, 5, 6}\n",
      "Updated Set {1, 2, 3, 4, 5, 6, 7, 8, 9, 10, 11, 12}\n",
      "Set after removing an element: {2, 3, 4, 5, 6, 7, 8, 9, 10, 11, 12}\n"
     ]
    }
   ],
   "source": [
    "# Sets are mutable\n",
    "my_set.add(6)\n",
    "print(\"Item added to set\", my_set)\n",
    "\n",
    "my_set.update([7, 8, 9], [10, 11, 12])\n",
    "print(\"Updated Set\", my_set)\n",
    "\n",
    "my_set.remove(1)\n",
    "print(\"Set after removing an element:\",my_set)"
   ]
  },
  {
   "cell_type": "code",
   "execution_count": 21,
   "metadata": {},
   "outputs": [],
   "source": [
    "# Sets dont have index associated with the values\n",
    "\n",
    "# Uncommemting the below line will throw an error\n",
    "# print(my_set[0])"
   ]
  },
  {
   "cell_type": "code",
   "execution_count": 22,
   "metadata": {},
   "outputs": [
    {
     "name": "stdout",
     "output_type": "stream",
     "text": [
      "{1, 3, 4, 6, 9, 10}\n"
     ]
    }
   ],
   "source": [
    "# Converting a list to a set\n",
    "list_1 = [1, 1, 3, 4, 4, 6, 6, 6, 9, 10]\n",
    "set_1 = set(list_1)\n",
    "print(set_1)"
   ]
  },
  {
   "cell_type": "markdown",
   "metadata": {},
   "source": [
    "### Set Operations"
   ]
  },
  {
   "cell_type": "code",
   "execution_count": 23,
   "metadata": {},
   "outputs": [
    {
     "name": "stdout",
     "output_type": "stream",
     "text": [
      "{'d', 'c', 'e'}\n",
      "{'a', 'e', 'f', 'c', 'b', 'd', 'g'}\n"
     ]
    }
   ],
   "source": [
    "set_1 = {\"a\", \"b\", \"c\", \"d\", \"e\"}\n",
    "set_2 = {\"c\", \"d\", \"e\", \"f\", \"g\"}\n",
    "\n",
    "print(set_1.intersection(set_2))\n",
    "\n",
    "print(set_1.union(set_2))"
   ]
  },
  {
   "cell_type": "code",
   "execution_count": 24,
   "metadata": {},
   "outputs": [
    {
     "name": "stdout",
     "output_type": "stream",
     "text": [
      "{'a', 'b'}\n",
      "{'f', 'g'}\n"
     ]
    }
   ],
   "source": [
    "# Difference removes the common elements of set_1 and set_2 from set_1\n",
    "print(set_1.difference(set_2))\n",
    "print(set_2.difference(set_1))"
   ]
  },
  {
   "cell_type": "markdown",
   "metadata": {},
   "source": [
    "### Frozen Sets\n",
    "- Immutable\n",
    "- While elements of a set can be changed at any time, the elements of a frozen set remain the same after creation "
   ]
  },
  {
   "cell_type": "code",
   "execution_count": 29,
   "metadata": {},
   "outputs": [
    {
     "name": "stdout",
     "output_type": "stream",
     "text": [
      "frozenset({'a', 'e', 'c', 'b', 'd'})\n"
     ]
    }
   ],
   "source": [
    "frozen_set_1 = frozenset([\"a\", \"b\", \"c\", \"d\", \"e\", \"a\", \"b\", \"c\", \"d\", \"e\"])\n",
    "print(frozen_set_1)"
   ]
  },
  {
   "cell_type": "code",
   "execution_count": 31,
   "metadata": {},
   "outputs": [],
   "source": [
    "# Uncommenting the below line will throw an error\n",
    "\n",
    "# frozen_set_1.add(\"f\")"
   ]
  },
  {
   "cell_type": "code",
   "execution_count": null,
   "metadata": {},
   "outputs": [],
   "source": []
  }
 ],
 "metadata": {
  "kernelspec": {
   "display_name": "Python 3.9.10 64-bit",
   "language": "python",
   "name": "python3"
  },
  "language_info": {
   "codemirror_mode": {
    "name": "ipython",
    "version": 3
   },
   "file_extension": ".py",
   "mimetype": "text/x-python",
   "name": "python",
   "nbconvert_exporter": "python",
   "pygments_lexer": "ipython3",
   "version": "3.9.10"
  },
  "orig_nbformat": 4,
  "vscode": {
   "interpreter": {
    "hash": "b0fa6594d8f4cbf19f97940f81e996739fb7646882a419484c72d19e05852a7e"
   }
  }
 },
 "nbformat": 4,
 "nbformat_minor": 2
}
