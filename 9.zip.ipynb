{
 "cells": [
  {
   "cell_type": "markdown",
   "metadata": {},
   "source": [
    "## Zip\n",
    "zip() method takes iterable or containers and returns a single iterator object, having mapped values from all the containers.\n",
    "\n",
    "syntax: zip(iterable, iterable, ...)"
   ]
  },
  {
   "cell_type": "code",
   "execution_count": 5,
   "metadata": {},
   "outputs": [
    {
     "name": "stdout",
     "output_type": "stream",
     "text": [
      "<zip object at 0x10754a600>\n",
      "[('John', 1), ('Bob', 2), ('Mary', 3), ('Jane', 4), ('Jack', 5)]\n"
     ]
    }
   ],
   "source": [
    "name_list = ['John', 'Bob', 'Mary', 'Jane', 'Jack']\n",
    "roll_no_list = [1, 2, 3, 4, 5]\n",
    "\n",
    "zipped = zip(name_list, roll_no_list)\n",
    "\n",
    "print(zipped)\n",
    "print(list(zipped))"
   ]
  },
  {
   "cell_type": "code",
   "execution_count": 8,
   "metadata": {},
   "outputs": [
    {
     "name": "stdout",
     "output_type": "stream",
     "text": [
      "0 ('John', 1)\n",
      "1 ('Bob', 2)\n",
      "2 ('Mary', 3)\n",
      "3 ('Jane', 4)\n",
      "4 ('Jack', 5)\n"
     ]
    }
   ],
   "source": [
    "# Zip with enumerate\n",
    "\n",
    "for index, value in enumerate(zip(name_list, roll_no_list)):\n",
    "    print(index, value)"
   ]
  },
  {
   "cell_type": "code",
   "execution_count": 10,
   "metadata": {},
   "outputs": [
    {
     "name": "stdout",
     "output_type": "stream",
     "text": [
      "{'reliance': 2175, 'infosys': 1127, 'tcs': 2750}\n",
      "{'John': 1, 'Bob': 2, 'Mary': 3, 'Jane': 4, 'Jack': 5}\n"
     ]
    }
   ],
   "source": [
    "# Zip with Dictionary\n",
    "stocks = ['reliance', 'infosys', 'tcs']\n",
    "prices = [2175, 1127, 2750]\n",
    " \n",
    "new_dict = {stocks: prices for stocks, prices in zip(stocks, prices)}\n",
    "print(new_dict)\n",
    "\n",
    "name_dict = {name: rollno for name, rollno in zip(name_list, roll_no_list)}\n",
    "print(name_dict)"
   ]
  },
  {
   "cell_type": "markdown",
   "metadata": {},
   "source": [
    "### Unzip\n",
    "Unzipping can be done with the help of * operator"
   ]
  },
  {
   "cell_type": "code",
   "execution_count": 14,
   "metadata": {},
   "outputs": [
    {
     "name": "stdout",
     "output_type": "stream",
     "text": [
      "[('John', 1), ('Bob', 2), ('Mary', 3), ('Jane', 4), ('Jack', 5)]\n",
      "('John', 'Bob', 'Mary', 'Jane', 'Jack')\n",
      "(1, 2, 3, 4, 5)\n"
     ]
    }
   ],
   "source": [
    "name_list = ['John', 'Bob', 'Mary', 'Jane', 'Jack']\n",
    "roll_no_list = [1, 2, 3, 4, 5]\n",
    "\n",
    "zipped_list = list(zip(name_list, roll_no_list))\n",
    "print(zipped_list)\n",
    "\n",
    "# To unzip list\n",
    "name, rollno = zip(*zipped_list)\n",
    "print(name)\n",
    "print(rollno)"
   ]
  },
  {
   "cell_type": "code",
   "execution_count": null,
   "metadata": {},
   "outputs": [],
   "source": []
  }
 ],
 "metadata": {
  "kernelspec": {
   "display_name": "Python 3.9.10 64-bit",
   "language": "python",
   "name": "python3"
  },
  "language_info": {
   "codemirror_mode": {
    "name": "ipython",
    "version": 3
   },
   "file_extension": ".py",
   "mimetype": "text/x-python",
   "name": "python",
   "nbconvert_exporter": "python",
   "pygments_lexer": "ipython3",
   "version": "3.9.10"
  },
  "orig_nbformat": 4,
  "vscode": {
   "interpreter": {
    "hash": "b0fa6594d8f4cbf19f97940f81e996739fb7646882a419484c72d19e05852a7e"
   }
  }
 },
 "nbformat": 4,
 "nbformat_minor": 2
}
