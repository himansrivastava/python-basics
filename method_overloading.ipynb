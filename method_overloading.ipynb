{
 "cells": [
  {
   "cell_type": "code",
   "execution_count": 1,
   "metadata": {},
   "outputs": [
    {
     "name": "stdout",
     "output_type": "stream",
     "text": [
      "100\n"
     ]
    }
   ],
   "source": [
    "# gfg example\n",
    "\n",
    "# First product method.\n",
    "# Takes two argument and print their\n",
    "# product\n",
    "def product(a, b):\n",
    "    p = a * b\n",
    "    print(p)\n",
    "\n",
    "\n",
    "# Second product method\n",
    "# Takes three argument and print their\n",
    "# product\n",
    "def product(a, b, c):\n",
    "    p = a * b * c\n",
    "    print(p)\n",
    "\n",
    "\n",
    "# Uncommenting the below line shows an error\n",
    "# product(4, 5)\n",
    "\n",
    "# This line will call the second product method\n",
    "product(4, 5, 5)"
   ]
  },
  {
   "cell_type": "code",
   "execution_count": 2,
   "metadata": {},
   "outputs": [
    {
     "name": "stdout",
     "output_type": "stream",
     "text": [
      "2 int\n",
      "6\n",
      "3 int\n",
      "12\n",
      "3 float\n",
      "17.204\n"
     ]
    }
   ],
   "source": [
    "from multipledispatch import dispatch\n",
    "\n",
    "# passing one parameter\n",
    "@dispatch(int, int)\n",
    "def product(first, second):\n",
    "    print(\"2 int\")\n",
    "    result = first * second\n",
    "    print(result)\n",
    "\n",
    "\n",
    "# passing two parameters\n",
    "@dispatch(int, int, int)\n",
    "def product(first, second, third):\n",
    "    print(\"3 int\")\n",
    "    result = first * second * third\n",
    "    print(result)\n",
    "\n",
    "\n",
    "# you can also pass data type of any value as per requirement\n",
    "@dispatch(float, float, float)\n",
    "def product(first, second, third):\n",
    "    print(\"3 float\")\n",
    "    result = first * second * third\n",
    "    print(result)\n",
    "\n",
    "\n",
    "# calling product method with 2 arguments\n",
    "product(2, 3)\n",
    "product(2, 3, 2)  # this will give output of 12\n",
    "product(2.2, 3.4, 2.3)  # this will give output of 17.985999999999997"
   ]
  },
  {
   "cell_type": "code",
   "execution_count": null,
   "metadata": {},
   "outputs": [],
   "source": []
  }
 ],
 "metadata": {
  "kernelspec": {
   "display_name": "Python 3.9.10 64-bit",
   "language": "python",
   "name": "python3"
  },
  "language_info": {
   "codemirror_mode": {
    "name": "ipython",
    "version": 3
   },
   "file_extension": ".py",
   "mimetype": "text/x-python",
   "name": "python",
   "nbconvert_exporter": "python",
   "pygments_lexer": "ipython3",
   "version": "3.9.10"
  },
  "orig_nbformat": 4,
  "vscode": {
   "interpreter": {
    "hash": "b0fa6594d8f4cbf19f97940f81e996739fb7646882a419484c72d19e05852a7e"
   }
  }
 },
 "nbformat": 4,
 "nbformat_minor": 2
}
