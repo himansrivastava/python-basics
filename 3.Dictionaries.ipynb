{
 "cells": [
  {
   "cell_type": "markdown",
   "metadata": {},
   "source": [
    "#### Dictionaries"
   ]
  },
  {
   "cell_type": "code",
   "execution_count": 52,
   "metadata": {},
   "outputs": [
    {
     "name": "stdout",
     "output_type": "stream",
     "text": [
      "{'name': 'John', 'age': '27', 'city': 'New York'}\n",
      "<class 'dict'>\n"
     ]
    }
   ],
   "source": [
    "# Creating a dictionary\n",
    "my_dictionary = {'name': 'John', 'age': '27', 'city': 'New York'}\n",
    "print(my_dictionary)\n",
    "print(type(my_dictionary))"
   ]
  },
  {
   "cell_type": "code",
   "execution_count": 53,
   "metadata": {},
   "outputs": [
    {
     "name": "stdout",
     "output_type": "stream",
     "text": [
      "{'name': 'Himanshu', 'age': '30', 'city': 'New Delhi'}\n"
     ]
    }
   ],
   "source": [
    "# Creating a dictionary using dict()\n",
    "another_dictionary = dict(name=\"Himanshu\", age=\"30\", city=\"New Delhi\")\n",
    "print(another_dictionary)"
   ]
  },
  {
   "cell_type": "code",
   "execution_count": 54,
   "metadata": {},
   "outputs": [
    {
     "name": "stdout",
     "output_type": "stream",
     "text": [
      "{'name': 'Himanshu', 'age': '30', 'city': 'New Delhi'}\n"
     ]
    }
   ],
   "source": [
    "# Creating a dictionary with a list of values\n",
    "another_dictionary = dict([('name', 'Himanshu'), ('age', '30'), ('city', 'New Delhi')])\n",
    "print(another_dictionary)"
   ]
  },
  {
   "cell_type": "code",
   "execution_count": 55,
   "metadata": {},
   "outputs": [
    {
     "name": "stdout",
     "output_type": "stream",
     "text": [
      "John\n"
     ]
    }
   ],
   "source": [
    "# Accessing values in a dictionary using the key\n",
    "print(my_dictionary['name'])"
   ]
  },
  {
   "cell_type": "code",
   "execution_count": 56,
   "metadata": {},
   "outputs": [
    {
     "name": "stdout",
     "output_type": "stream",
     "text": [
      "Not found\n"
     ]
    }
   ],
   "source": [
    "# use get method to access values in a dictionary and return None if key is not found\n",
    "print(my_dictionary.get('profession', 'Not found'))"
   ]
  },
  {
   "cell_type": "code",
   "execution_count": 57,
   "metadata": {},
   "outputs": [
    {
     "name": "stdout",
     "output_type": "stream",
     "text": [
      "{'name': 'John', 'age': '27', 'city': 'New York', 'profession': 'Software Engineer'}\n"
     ]
    }
   ],
   "source": [
    "# add a key-value pair to a dictionary\n",
    "my_dictionary['profession'] = 'Software Engineer'\n",
    "print(my_dictionary)"
   ]
  },
  {
   "cell_type": "code",
   "execution_count": 58,
   "metadata": {},
   "outputs": [
    {
     "name": "stdout",
     "output_type": "stream",
     "text": [
      "4\n"
     ]
    }
   ],
   "source": [
    "# length of a dictionary\n",
    "print(len(my_dictionary))"
   ]
  },
  {
   "cell_type": "code",
   "execution_count": 59,
   "metadata": {},
   "outputs": [
    {
     "name": "stdout",
     "output_type": "stream",
     "text": [
      "True\n",
      "False\n"
     ]
    }
   ],
   "source": [
    "# check if a key exists in a dictionary\n",
    "print('name' in my_dictionary)\n",
    "print('marital_status' in my_dictionary)"
   ]
  },
  {
   "cell_type": "code",
   "execution_count": 72,
   "metadata": {},
   "outputs": [
    {
     "name": "stdout",
     "output_type": "stream",
     "text": [
      "dict_items([('name', 'Himanshu'), ('age', '30'), ('city', 'New Delhi'), ('profession', 'Software Engineer')])\n",
      "[('name', 'Himanshu'), ('age', '30'), ('city', 'New Delhi'), ('profession', 'Software Engineer')]\n"
     ]
    }
   ],
   "source": [
    "# Get the list of key-value pairs in a dictionary\n",
    "print(my_dictionary.items())\n",
    "print(list(my_dictionary.items()))"
   ]
  },
  {
   "cell_type": "code",
   "execution_count": 60,
   "metadata": {},
   "outputs": [
    {
     "name": "stdout",
     "output_type": "stream",
     "text": [
      "dict_keys(['name', 'age', 'city', 'profession'])\n",
      "['name', 'age', 'city', 'profession']\n"
     ]
    }
   ],
   "source": [
    "# Get the list of keys in a dictionary\n",
    "print(my_dictionary.keys())\n",
    "print(list(my_dictionary.keys()))"
   ]
  },
  {
   "cell_type": "code",
   "execution_count": 61,
   "metadata": {},
   "outputs": [
    {
     "name": "stdout",
     "output_type": "stream",
     "text": [
      "dict_values(['John', '27', 'New York', 'Software Engineer'])\n",
      "['John', '27', 'New York', 'Software Engineer']\n"
     ]
    }
   ],
   "source": [
    "# Get the list of values in a dictionary\n",
    "print(my_dictionary.values())\n",
    "print(list(my_dictionary.values()))"
   ]
  },
  {
   "cell_type": "code",
   "execution_count": 62,
   "metadata": {},
   "outputs": [
    {
     "name": "stdout",
     "output_type": "stream",
     "text": [
      "{'name': 'John', 'age': '27', 'city': 'New York'}\n"
     ]
    }
   ],
   "source": [
    "# Remove a key-value pair from a dictionary\n",
    "del my_dictionary['profession']\n",
    "print(my_dictionary)"
   ]
  },
  {
   "cell_type": "code",
   "execution_count": 63,
   "metadata": {},
   "outputs": [
    {
     "name": "stdout",
     "output_type": "stream",
     "text": [
      "{'name': 'John Doe', 'age': '27', 'city': 'New York'}\n",
      "{'name': 'John Doey', 'age': '30', 'city': 'New York'}\n"
     ]
    }
   ],
   "source": [
    "# Updating the value of a key in a dictionary\n",
    "my_dictionary['name'] = 'John Doe'\n",
    "print(my_dictionary)\n",
    "\n",
    "my_dictionary.update({'name': 'John Doey', 'age': '30'})\n",
    "print(my_dictionary)"
   ]
  },
  {
   "cell_type": "code",
   "execution_count": 64,
   "metadata": {},
   "outputs": [],
   "source": [
    "# update the value of a key in a dictionary\n"
   ]
  },
  {
   "cell_type": "code",
   "execution_count": 65,
   "metadata": {},
   "outputs": [
    {
     "name": "stdout",
     "output_type": "stream",
     "text": [
      "{'name': 'John Doey', 'age': '30', 'city': 'New York', 'profession': 'Software Engineer'}\n",
      "{'name': 'Himanshu', 'age': '30', 'city': 'New Delhi', 'profession': 'Software Engineer'}\n"
     ]
    }
   ],
   "source": [
    "# updating a dictionary using another dictionary\n",
    "my_dictionary['profession'] = 'Software Engineer'\n",
    "print(my_dictionary)\n",
    "my_dictionary.update(another_dictionary)\n",
    "print(my_dictionary)"
   ]
  },
  {
   "cell_type": "markdown",
   "metadata": {},
   "source": [
    "##### Iterating over a dictionary"
   ]
  },
  {
   "cell_type": "code",
   "execution_count": 71,
   "metadata": {},
   "outputs": [
    {
     "name": "stdout",
     "output_type": "stream",
     "text": [
      "name Himanshu\n",
      "age 30\n",
      "city New Delhi\n",
      "profession Software Engineer\n",
      "dict_items([('name', 'Himanshu'), ('age', '30'), ('city', 'New Delhi'), ('profession', 'Software Engineer')])\n",
      "[('name', 'Himanshu'), ('age', '30'), ('city', 'New Delhi'), ('profession', 'Software Engineer')]\n"
     ]
    }
   ],
   "source": [
    "for key, value in my_dictionary.items():\n",
    "    print(key, value)\n",
    "    \n",
    "print(my_dictionary.items())\n",
    "print(list(my_dictionary.items()))"
   ]
  },
  {
   "cell_type": "markdown",
   "metadata": {},
   "source": [
    "##### Dictionary Comprehension"
   ]
  },
  {
   "cell_type": "code",
   "execution_count": 73,
   "metadata": {},
   "outputs": [
    {
     "name": "stdout",
     "output_type": "stream",
     "text": [
      "{0: 0, 1: 1, 2: 4, 3: 9, 4: 16, 5: 25}\n"
     ]
    }
   ],
   "source": [
    "squared_numbers = {x: x*x for x in range(6)}\n",
    "print(squared_numbers)"
   ]
  },
  {
   "cell_type": "code",
   "execution_count": 75,
   "metadata": {},
   "outputs": [
    {
     "name": "stdout",
     "output_type": "stream",
     "text": [
      "{'John': {'age': 25, 'city': 'New York'}}\n"
     ]
    }
   ],
   "source": [
    "students_data = {'John': {'age': 25, 'city': 'New York'}, 'Jane': {'age': 30, 'city': 'New York'}, 'Jack': {'age': 32, 'city': 'New York'}}\n",
    "\n",
    "junior_students = {key:value for key, value in students_data.items() if value['age'] < 30 }\n",
    "print(junior_students)"
   ]
  },
  {
   "cell_type": "code",
   "execution_count": null,
   "metadata": {},
   "outputs": [],
   "source": []
  }
 ],
 "metadata": {
  "kernelspec": {
   "display_name": "Python 3.9.10 64-bit",
   "language": "python",
   "name": "python3"
  },
  "language_info": {
   "codemirror_mode": {
    "name": "ipython",
    "version": 3
   },
   "file_extension": ".py",
   "mimetype": "text/x-python",
   "name": "python",
   "nbconvert_exporter": "python",
   "pygments_lexer": "ipython3",
   "version": "3.9.10"
  },
  "orig_nbformat": 4,
  "vscode": {
   "interpreter": {
    "hash": "b0fa6594d8f4cbf19f97940f81e996739fb7646882a419484c72d19e05852a7e"
   }
  }
 },
 "nbformat": 4,
 "nbformat_minor": 2
}
