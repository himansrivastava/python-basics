{
 "cells": [
  {
   "cell_type": "markdown",
   "metadata": {},
   "source": [
    "## Functions"
   ]
  },
  {
   "cell_type": "markdown",
   "metadata": {},
   "source": [
    "#### First class Functions\n",
    "Properties of First class Functions:\n",
    "- A function is an instance of the Object type.\n",
    "- You can store the function in a variable.\n",
    "- You can pass the function as a parameter to another function.\n",
    "- You can return the function from a function.\n",
    "- You can store them in data structures such as hash tables, lists, …"
   ]
  },
  {
   "cell_type": "code",
   "execution_count": 2,
   "metadata": {},
   "outputs": [
    {
     "name": "stdout",
     "output_type": "stream",
     "text": [
      "100\n",
      "100\n"
     ]
    }
   ],
   "source": [
    "# Functions as objects i.e. they can be assigned to a variable\n",
    "\n",
    "def square(num):\n",
    "    return num**2\n",
    "\n",
    "print(square(10))\n",
    "\n",
    "math_func = square\n",
    "\n",
    "print(math_func(10))"
   ]
  },
  {
   "cell_type": "code",
   "execution_count": 5,
   "metadata": {},
   "outputs": [
    {
     "name": "stdout",
     "output_type": "stream",
     "text": [
      "100\n"
     ]
    }
   ],
   "source": [
    "# Functions as arguments to another function\n",
    "\n",
    "def square(num):\n",
    "    return num**2\n",
    "\n",
    "def display_square(func):\n",
    "    '''\n",
    "    Higher Order Functions: Functions which accept other functions as arguments.\n",
    "    '''\n",
    "    print(func(10))\n",
    "    \n",
    "display_square(square)"
   ]
  },
  {
   "cell_type": "code",
   "execution_count": 7,
   "metadata": {},
   "outputs": [
    {
     "name": "stdout",
     "output_type": "stream",
     "text": [
      "<function power.<locals>.square at 0x103d36430>\n",
      "100\n"
     ]
    }
   ],
   "source": [
    "# Functions can return another function\n",
    "\n",
    "def power(num):\n",
    "    def square(x):\n",
    "        return num**x\n",
    "    return square\n",
    "\n",
    "a = power(10)\n",
    "print(a)\n",
    "print(a(2))"
   ]
  },
  {
   "cell_type": "markdown",
   "metadata": {},
   "source": [
    "#### Decorators\n",
    "- Decorators allow to modify the behaviour of a function or a class\n",
    "- Used to wrap another function to extend the behaviour of the wrapped function, without permanently modifying it.\n",
    "- In decorators, functions are taken as argument in another function and then called inside the wrapper function."
   ]
  },
  {
   "cell_type": "code",
   "execution_count": 37,
   "metadata": {},
   "outputs": [
    {
     "name": "stdout",
     "output_type": "stream",
     "text": [
      "Inside Inner function\n",
      "Inside the square function\n",
      "100\n"
     ]
    }
   ],
   "source": [
    "# A function can be passed as an argument to another function (First Class Function).\n",
    "# Here the square function is passed as an argument to the display_square.\n",
    "\n",
    "def display_square(func):\n",
    "    def inner():\n",
    "        print(\"Inside Inner function\")\n",
    "        func(10)\n",
    "    return inner\n",
    "\n",
    "def square(num):\n",
    "    print(\"Inside the square function\")\n",
    "    print(num**2)\n",
    "\n",
    "# Here we called the function display_square by passing square as an argument\n",
    "square = display_square(square)\n",
    "square()"
   ]
  },
  {
   "cell_type": "code",
   "execution_count": 38,
   "metadata": {},
   "outputs": [
    {
     "name": "stdout",
     "output_type": "stream",
     "text": [
      "Inside Inner function\n",
      "Inside the square function\n",
      "100\n"
     ]
    }
   ],
   "source": [
    "# The below code is equivalent to the above code.\n",
    "def display_square(func):\n",
    "    def inner():\n",
    "        print(\"Inside Inner function\")\n",
    "        func(10)\n",
    "    return inner\n",
    "\n",
    "@display_square\n",
    "def square(num):\n",
    "    print(\"Inside the square function\")\n",
    "    print(num**2)\n",
    "    \n",
    "square()"
   ]
  },
  {
   "cell_type": "code",
   "execution_count": 62,
   "metadata": {},
   "outputs": [
    {
     "name": "stdout",
     "output_type": "stream",
     "text": [
      "3628800\n",
      "Time take = 1.0051641464233398\n"
     ]
    }
   ],
   "source": [
    "# Find execution time of a function\n",
    "import time\n",
    "import math\n",
    "\n",
    "def calculate_time(func):\n",
    "    \n",
    "    def inner(*args, **kwargs):\n",
    "        \n",
    "        begin = time.time()\n",
    "        func(*args, **kwargs)\n",
    "        end = time.time()\n",
    "        print(\"Time take =\", end-begin)\n",
    "    \n",
    "    return inner\n",
    "\n",
    "@calculate_time\n",
    "def factorial(num):\n",
    "    time.sleep(1)\n",
    "    print (math.factorial(num))\n",
    "    \n",
    "factorial(10)\n",
    "    "
   ]
  },
  {
   "cell_type": "code",
   "execution_count": 63,
   "metadata": {},
   "outputs": [
    {
     "name": "stdout",
     "output_type": "stream",
     "text": [
      "Time take = 1.0050671100616455\n"
     ]
    },
    {
     "data": {
      "text/plain": [
       "3628800"
      ]
     },
     "execution_count": 63,
     "metadata": {},
     "output_type": "execute_result"
    }
   ],
   "source": [
    "# When function returns a value\n",
    "def calculate_time(func):\n",
    "    \n",
    "    def inner(*args, **kwargs):\n",
    "        \n",
    "        begin = time.time()\n",
    "        val = func(*args, **kwargs)\n",
    "        end = time.time()\n",
    "        print(\"Time take =\", end-begin)\n",
    "        return val\n",
    "    \n",
    "    return inner\n",
    "\n",
    "@calculate_time\n",
    "def factorial(num):\n",
    "    time.sleep(1)\n",
    "    return(math.factorial(num))\n",
    "    \n",
    "factorial(10)"
   ]
  },
  {
   "cell_type": "markdown",
   "metadata": {},
   "source": [
    "##### Decorators with Arguments"
   ]
  },
  {
   "cell_type": "code",
   "execution_count": 2,
   "metadata": {},
   "outputs": [
    {
     "name": "stdout",
     "output_type": "stream",
     "text": [
      "Inside Decorator\n",
      "Inside Inner function\n",
      "test\n",
      "Inside actual function\n"
     ]
    }
   ],
   "source": [
    "# Decorator Function with arguments\n",
    "def decorator_fun(*args, **kwargs):\n",
    "    print(\"Inside Decorator\")\n",
    "    \n",
    "    def inner(func):\n",
    "        print(\"Inside Inner function\")\n",
    "        print(kwargs['like'])\n",
    "        func()\n",
    "    return inner\n",
    "\n",
    "@decorator_fun(like=\"test\")\n",
    "def func_to():\n",
    "    print(\"Inside actual function\")"
   ]
  },
  {
   "cell_type": "code",
   "execution_count": null,
   "metadata": {},
   "outputs": [],
   "source": []
  }
 ],
 "metadata": {
  "kernelspec": {
   "display_name": "Python 3.9.10 64-bit",
   "language": "python",
   "name": "python3"
  },
  "language_info": {
   "codemirror_mode": {
    "name": "ipython",
    "version": 3
   },
   "file_extension": ".py",
   "mimetype": "text/x-python",
   "name": "python",
   "nbconvert_exporter": "python",
   "pygments_lexer": "ipython3",
   "version": "3.9.10"
  },
  "orig_nbformat": 4,
  "vscode": {
   "interpreter": {
    "hash": "b0fa6594d8f4cbf19f97940f81e996739fb7646882a419484c72d19e05852a7e"
   }
  }
 },
 "nbformat": 4,
 "nbformat_minor": 2
}
