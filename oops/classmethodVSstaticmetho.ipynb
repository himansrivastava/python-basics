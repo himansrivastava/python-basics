{
 "cells": [
  {
   "cell_type": "code",
   "execution_count": 12,
   "metadata": {},
   "outputs": [],
   "source": [
    "from datetime import date\n",
    " \n",
    "class Person:\n",
    "    country=\"India\"\n",
    "    def __init__(self, name, age):\n",
    "        self.name = name\n",
    "        self.age = age\n",
    "    \n",
    "    # a class method to create a Person object by birth year.\n",
    "    @classmethod\n",
    "    def fromBirthYear(cls, name, year):\n",
    "        Person.country=\"USA\"\n",
    "        return cls(name, date.today().year - year)\n",
    "    \n",
    "    # a static method to check if a Person is adult or not.\n",
    "    @staticmethod\n",
    "    def isAdult(age):\n",
    "        return age > 18"
   ]
  },
  {
   "cell_type": "code",
   "execution_count": 14,
   "metadata": {},
   "outputs": [
    {
     "name": "stdout",
     "output_type": "stream",
     "text": [
      "USA\n",
      "USA\n",
      "21\n",
      "26\n",
      "True\n",
      "USA\n",
      "USA\n",
      "India.\n"
     ]
    }
   ],
   "source": [
    "person1 = Person(\"mayank\", 21)\n",
    "print(person1.country)\n",
    "person2 = Person.fromBirthYear(\"mayank\", 1996)\n",
    "print(person2.country)\n",
    " \n",
    "print(person1.age)\n",
    "print(person2.age)\n",
    "\n",
    "\n",
    "\n",
    "# print the result\n",
    "print(Person.isAdult(22))\n",
    "\n",
    "print(person1.country)\n",
    "print(person2.country)\n",
    "\n",
    "person2.country = \"India.\"\n",
    "print(person2.country)"
   ]
  },
  {
   "cell_type": "code",
   "execution_count": null,
   "metadata": {},
   "outputs": [],
   "source": []
  }
 ],
 "metadata": {
  "kernelspec": {
   "display_name": "Python 3.9.10 64-bit",
   "language": "python",
   "name": "python3"
  },
  "language_info": {
   "codemirror_mode": {
    "name": "ipython",
    "version": 3
   },
   "file_extension": ".py",
   "mimetype": "text/x-python",
   "name": "python",
   "nbconvert_exporter": "python",
   "pygments_lexer": "ipython3",
   "version": "3.9.10"
  },
  "orig_nbformat": 4,
  "vscode": {
   "interpreter": {
    "hash": "b0fa6594d8f4cbf19f97940f81e996739fb7646882a419484c72d19e05852a7e"
   }
  }
 },
 "nbformat": 4,
 "nbformat_minor": 2
}
