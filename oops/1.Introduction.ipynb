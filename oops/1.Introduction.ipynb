{
 "cells": [
  {
   "cell_type": "markdown",
   "metadata": {},
   "source": [
    "## Classes and Objects"
   ]
  },
  {
   "cell_type": "markdown",
   "metadata": {},
   "source": [
    "#### Class\n",
    "- Class creates a user-defined data structure.\n",
    "- It holds its own data members and member functions.\n",
    "- The members can be accessed and used by creating an instance of that class.\n",
    "\n",
    "Some Points:\n",
    "- Attributes are the variables that belong to a class.\n",
    "- Attributes are always public and can be accessed using the dot (.) operator."
   ]
  },
  {
   "cell_type": "markdown",
   "metadata": {},
   "source": [
    "#### Class Objects\n",
    "- An Object is an instance of a Class.\n",
    "- A class is like a blueprint while an instance is a copy of the class with actual values.\n",
    "\n",
    "An object consists of:\n",
    "- State: It is represented by the attributes of an object. It also reflects the properties of an object.\n",
    "- Behaviour: Represented by the methods of an object.\n",
    "- Identity: Unique name of the object.\n"
   ]
  },
  {
   "cell_type": "code",
   "execution_count": 3,
   "metadata": {},
   "outputs": [
    {
     "name": "stdout",
     "output_type": "stream",
     "text": [
      "mammal\n",
      "I am a  mammal\n",
      "I am a  dog\n"
     ]
    }
   ],
   "source": [
    "# Declaring a class\n",
    "class Dog:\n",
    "    type = \"mammal\"\n",
    "    species = \"dog\"\n",
    "    \n",
    "    def func(self):\n",
    "        print(\"I am a \", self.type)\n",
    "        print(\"I am a \", self.species)\n",
    "        \n",
    "\n",
    "# Instantiating a class\n",
    "\n",
    "doodle = Dog()\n",
    "print(doodle.type)\n",
    "doodle.func()"
   ]
  },
  {
   "cell_type": "markdown",
   "metadata": {},
   "source": [
    "#### The self\n",
    "\n",
    "- Class methods have an extra first parameter in the method definition.\n",
    "- If we have a method that takes no argument, then we still have to have one argument i.e. self\n",
    "- On calling a method, obj.method(arg1), python automatically converts it to MyClass.method(obj, arg1)"
   ]
  },
  {
   "cell_type": "markdown",
   "metadata": {},
   "source": [
    "#### __init__ method\n",
    "\n",
    "- Initialises the instance and sets the instance variables\n"
   ]
  },
  {
   "cell_type": "code",
   "execution_count": 5,
   "metadata": {},
   "outputs": [
    {
     "name": "stdout",
     "output_type": "stream",
     "text": [
      "Hello! How are you  Himanshu\n"
     ]
    }
   ],
   "source": [
    "class Person:\n",
    "    def __init__(self, name):\n",
    "        self.name = name\n",
    "        \n",
    "    def greet(self):\n",
    "        print(\"Hello! How are you \", self.name)\n",
    "        \n",
    "himanshu = Person(\"Himanshu\")\n",
    "himanshu.greet()        \n"
   ]
  },
  {
   "cell_type": "markdown",
   "metadata": {},
   "source": [
    "#### Class vs Instance Variables\n",
    "- Instance variables are for data and are unique to each instance\n",
    "- Class variables are for attributes and methods shared for all the instances.\n",
    "- Value of class variables is assigned in the class.\n",
    "- Value of Instance variables is assigned in the __init__ method or any other method with self argument."
   ]
  },
  {
   "cell_type": "code",
   "execution_count": 7,
   "metadata": {},
   "outputs": [
    {
     "name": "stdout",
     "output_type": "stream",
     "text": [
      "Doodle details\n",
      "dog\n",
      "Doberman\n",
      "black\n",
      "\n",
      "Dumdum details\n",
      "dog\n",
      "Poemrian\n",
      "white\n"
     ]
    }
   ],
   "source": [
    "class Dog:\n",
    "    animal = 'dog'\n",
    "    \n",
    "    def __init__(self, breed, color):\n",
    "        self.breed = breed\n",
    "        self.color = color\n",
    "        \n",
    "        \n",
    "doodle = Dog(breed=\"Doberman\", color=\"black\")\n",
    "dumdum = Dog(breed=\"Poemrian\", color=\"white\")\n",
    "\n",
    "print(\"Doodle details\")\n",
    "print(doodle.animal)\n",
    "print(doodle.breed)\n",
    "print(doodle.color)\n",
    "\n",
    "print(\"\\nDumdum details\")\n",
    "print(dumdum.animal)\n",
    "print(dumdum.breed)\n",
    "print(dumdum.color)"
   ]
  },
  {
   "cell_type": "code",
   "execution_count": 10,
   "metadata": {},
   "outputs": [
    {
     "name": "stdout",
     "output_type": "stream",
     "text": [
      "dog\n"
     ]
    }
   ],
   "source": [
    "# Class variables can also be accessed using the class name\n",
    "# But instance variables can not be accessed using the class name\n",
    "print(Dog.animal)"
   ]
  },
  {
   "cell_type": "code",
   "execution_count": 11,
   "metadata": {},
   "outputs": [
    {
     "name": "stdout",
     "output_type": "stream",
     "text": [
      "black\n"
     ]
    }
   ],
   "source": [
    "# Instance variables can be defined using normal methods too\n",
    "\n",
    "class Dog:\n",
    "    animal = 'dog'\n",
    "    \n",
    "    def __init__(self, breed):\n",
    "        self.breed = breed\n",
    "        \n",
    "    def setColor(self, color):\n",
    "        self.color = color\n",
    "        \n",
    "    def getColor(self):\n",
    "        return self.color\n",
    "    \n",
    "doodle = Dog(\"doberman\")\n",
    "\n",
    "doodle.setColor(\"black\")\n",
    "\n",
    "print(doodle.getColor())"
   ]
  },
  {
   "cell_type": "code",
   "execution_count": null,
   "metadata": {},
   "outputs": [],
   "source": []
  }
 ],
 "metadata": {
  "kernelspec": {
   "display_name": "Python 3.9.10 64-bit",
   "language": "python",
   "name": "python3"
  },
  "language_info": {
   "codemirror_mode": {
    "name": "ipython",
    "version": 3
   },
   "file_extension": ".py",
   "mimetype": "text/x-python",
   "name": "python",
   "nbconvert_exporter": "python",
   "pygments_lexer": "ipython3",
   "version": "3.9.10"
  },
  "orig_nbformat": 4,
  "vscode": {
   "interpreter": {
    "hash": "b0fa6594d8f4cbf19f97940f81e996739fb7646882a419484c72d19e05852a7e"
   }
  }
 },
 "nbformat": 4,
 "nbformat_minor": 2
}
