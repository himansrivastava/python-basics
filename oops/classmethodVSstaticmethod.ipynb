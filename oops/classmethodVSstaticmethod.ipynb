{
 "cells": [
  {
   "cell_type": "code",
   "execution_count": 12,
   "metadata": {},
   "outputs": [],
   "source": [
    "# gfg example\n",
    "from datetime import date\n",
    " \n",
    "class Person:\n",
    "    country=\"India\"\n",
    "    def __init__(self, name, age):\n",
    "        self.name = name\n",
    "        self.age = age\n",
    "    \n",
    "    # a class method to create a Person object by birth year.\n",
    "    @classmethod\n",
    "    def fromBirthYear(cls, name, year):\n",
    "        Person.country=\"USA\"\n",
    "        return cls(name, date.today().year - year)\n",
    "    \n",
    "    # a static method to check if a Person is adult or not.\n",
    "    @staticmethod\n",
    "    def isAdult(age):\n",
    "        return age > 18"
   ]
  },
  {
   "cell_type": "code",
   "execution_count": 14,
   "metadata": {},
   "outputs": [
    {
     "name": "stdout",
     "output_type": "stream",
     "text": [
      "USA\n",
      "USA\n",
      "21\n",
      "26\n",
      "True\n",
      "USA\n",
      "USA\n",
      "India.\n"
     ]
    }
   ],
   "source": [
    "person1 = Person(\"mayank\", 21)\n",
    "print(person1.country)\n",
    "person2 = Person.fromBirthYear(\"mayank\", 1996)\n",
    "print(person2.country)\n",
    " \n",
    "print(person1.age)\n",
    "print(person2.age)\n",
    "\n",
    "\n",
    "\n",
    "# print the result\n",
    "print(Person.isAdult(22))\n",
    "\n",
    "print(person1.country)\n",
    "print(person2.country)\n",
    "\n",
    "person2.country = \"India.\"\n",
    "print(person2.country)"
   ]
  },
  {
   "cell_type": "code",
   "execution_count": 1,
   "metadata": {},
   "outputs": [
    {
     "name": "stdout",
     "output_type": "stream",
     "text": [
      "cse\n",
      "cse\n",
      "Geek\n",
      "Nerd\n",
      "1\n",
      "2\n",
      "cse\n",
      "ece\n",
      "cse\n",
      "ece\n",
      "mech\n"
     ]
    }
   ],
   "source": [
    "# gfg example\n",
    "# Class for Computer Science Student\n",
    "class CSStudent:\n",
    "    stream = \"cse\"  # Class Variable\n",
    "\n",
    "    def __init__(self, name, roll):\n",
    "        self.name = name  # Instance Variable\n",
    "        self.roll = roll  # Instance Variable\n",
    "\n",
    "\n",
    "# Objects of CSStudent class\n",
    "a = CSStudent(\"Geek\", 1)\n",
    "b = CSStudent(\"Nerd\", 2)\n",
    "\n",
    "print(a.stream)  # prints \"cse\"\n",
    "print(b.stream)  # prints \"cse\"\n",
    "print(a.name)  # prints \"Geek\"\n",
    "print(b.name)  # prints \"Nerd\"\n",
    "print(a.roll)  # prints \"1\"\n",
    "print(b.roll)  # prints \"2\"\n",
    "\n",
    "# Class variables can be accessed using class\n",
    "# name also\n",
    "print(CSStudent.stream)  # prints \"cse\"\n",
    "\n",
    "# Now if we change the stream for just a it won't be changed for b\n",
    "a.stream = \"ece\"\n",
    "print(a.stream)  # prints 'ece'\n",
    "print(b.stream)  # prints 'cse'\n",
    "\n",
    "# To change the stream for all instances of the class we can change it\n",
    "# directly from the class\n",
    "CSStudent.stream = \"mech\"\n",
    "\n",
    "print(a.stream)  # prints 'ece'\n",
    "print(b.stream)  # prints 'mech'"
   ]
  },
  {
   "cell_type": "code",
   "execution_count": null,
   "metadata": {},
   "outputs": [],
   "source": []
  }
 ],
 "metadata": {
  "kernelspec": {
   "display_name": "Python 3.9.10 64-bit",
   "language": "python",
   "name": "python3"
  },
  "language_info": {
   "codemirror_mode": {
    "name": "ipython",
    "version": 3
   },
   "file_extension": ".py",
   "mimetype": "text/x-python",
   "name": "python",
   "nbconvert_exporter": "python",
   "pygments_lexer": "ipython3",
   "version": "3.9.10"
  },
  "orig_nbformat": 4,
  "vscode": {
   "interpreter": {
    "hash": "b0fa6594d8f4cbf19f97940f81e996739fb7646882a419484c72d19e05852a7e"
   }
  }
 },
 "nbformat": 4,
 "nbformat_minor": 2
}
