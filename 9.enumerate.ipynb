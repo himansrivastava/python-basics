{
 "cells": [
  {
   "cell_type": "markdown",
   "metadata": {},
   "source": [
    "## Enumerate\n",
    "- enumerate() method adds a counter to an iterable and returns it in a form of enumerating object.\n",
    "- syntax: enumerate(iterable, start=0)"
   ]
  },
  {
   "cell_type": "code",
   "execution_count": 8,
   "metadata": {},
   "outputs": [
    {
     "name": "stdout",
     "output_type": "stream",
     "text": [
      "<enumerate object at 0x1034bbf80>\n",
      "[(0, 'abc'), (1, 'bcd'), (2, 'cde'), (3, 'def'), (4, 'efg')]\n"
     ]
    }
   ],
   "source": [
    "list_1 = [\"abc\", \"bcd\", \"cde\", \"def\", \"efg\"]\n",
    "list_2 = \"abcdefg\"\n",
    "\n",
    "print(enumerate(list_1))\n",
    "print(list(enumerate(list_1)))"
   ]
  },
  {
   "cell_type": "code",
   "execution_count": 9,
   "metadata": {},
   "outputs": [
    {
     "name": "stdout",
     "output_type": "stream",
     "text": [
      "[(2, 'a'), (3, 'b'), (4, 'c'), (5, 'd'), (6, 'e'), (7, 'f'), (8, 'g')]\n"
     ]
    }
   ],
   "source": [
    "# We can even change the starting index\n",
    "print(list(enumerate(list_2, 2)))"
   ]
  },
  {
   "cell_type": "code",
   "execution_count": 10,
   "metadata": {},
   "outputs": [
    {
     "name": "stdout",
     "output_type": "stream",
     "text": [
      "(0, 'abc')\n",
      "(1, 'bcd')\n",
      "(2, 'cde')\n",
      "(3, 'def')\n",
      "(4, 'efg')\n"
     ]
    }
   ],
   "source": [
    "# print the tuples in enumerate object directly\n",
    "\n",
    "for item in enumerate(list_1):\n",
    "    print(item)"
   ]
  },
  {
   "cell_type": "code",
   "execution_count": 12,
   "metadata": {},
   "outputs": [
    {
     "name": "stdout",
     "output_type": "stream",
     "text": [
      "0   a\n",
      "1   b\n",
      "2   c\n",
      "3   d\n",
      "4   e\n",
      "5   f\n",
      "6   g\n"
     ]
    }
   ],
   "source": [
    "# Or we can destructure the index and value and access them separately too\n",
    "for index, item in enumerate(list_2):\n",
    "    print(index, \" \", item)"
   ]
  },
  {
   "cell_type": "code",
   "execution_count": null,
   "metadata": {},
   "outputs": [],
   "source": []
  }
 ],
 "metadata": {
  "kernelspec": {
   "display_name": "Python 3.9.10 64-bit",
   "language": "python",
   "name": "python3"
  },
  "language_info": {
   "codemirror_mode": {
    "name": "ipython",
    "version": 3
   },
   "file_extension": ".py",
   "mimetype": "text/x-python",
   "name": "python",
   "nbconvert_exporter": "python",
   "pygments_lexer": "ipython3",
   "version": "3.9.10"
  },
  "orig_nbformat": 4,
  "vscode": {
   "interpreter": {
    "hash": "b0fa6594d8f4cbf19f97940f81e996739fb7646882a419484c72d19e05852a7e"
   }
  }
 },
 "nbformat": 4,
 "nbformat_minor": 2
}
