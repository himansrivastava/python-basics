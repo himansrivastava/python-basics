{
 "cells": [
  {
   "cell_type": "markdown",
   "id": "e69521eb",
   "metadata": {},
   "source": [
    "### Lists"
   ]
  },
  {
   "cell_type": "code",
   "execution_count": 1,
   "id": "c3f679a2",
   "metadata": {},
   "outputs": [
    {
     "name": "stdout",
     "output_type": "stream",
     "text": [
      "[1, 2, 3, 4, 5]\n"
     ]
    }
   ],
   "source": [
    "my_list = [1, 2, 3, 4, 5]\n",
    "print(my_list) "
   ]
  },
  {
   "cell_type": "code",
   "execution_count": 82,
   "id": "19697d0d",
   "metadata": {},
   "outputs": [
    {
     "name": "stdout",
     "output_type": "stream",
     "text": [
      "<class 'list'>\n"
     ]
    }
   ],
   "source": [
    "print(type(my_list))"
   ]
  },
  {
   "cell_type": "code",
   "execution_count": 2,
   "id": "adcacb46",
   "metadata": {},
   "outputs": [
    {
     "name": "stdout",
     "output_type": "stream",
     "text": [
      "[10, 2, 3, 4, 5]\n"
     ]
    }
   ],
   "source": [
    "# Lists are mutable\n",
    "my_list[0] = 10\n",
    "print(my_list)"
   ]
  },
  {
   "cell_type": "code",
   "execution_count": 3,
   "id": "160506c9",
   "metadata": {},
   "outputs": [
    {
     "name": "stdout",
     "output_type": "stream",
     "text": [
      "[1, 2, 'Hello', True, 4.5]\n"
     ]
    }
   ],
   "source": [
    "# Lists can contain different types\n",
    "my_list = [1, 2, \"Hello\", True, 4.5]\n",
    "print(my_list)"
   ]
  },
  {
   "cell_type": "code",
   "execution_count": 4,
   "id": "185e86e5",
   "metadata": {},
   "outputs": [
    {
     "name": "stdout",
     "output_type": "stream",
     "text": [
      "[1, 2, [3, 4, 5], [6, 7, 8]]\n"
     ]
    }
   ],
   "source": [
    "# List can be nested\n",
    "my_list = [1, 2, [3, 4, 5], [6, 7, 8]]\n",
    "print(my_list)"
   ]
  },
  {
   "cell_type": "code",
   "execution_count": 7,
   "id": "47ffb610",
   "metadata": {},
   "outputs": [
    {
     "name": "stdout",
     "output_type": "stream",
     "text": [
      "[1, 2, 3]\n",
      "[5, 4, 3, 2, 1]\n",
      "[1, 2, 3]\n",
      "[3, 4, 5]\n",
      "5\n"
     ]
    }
   ],
   "source": [
    "# List slicing\n",
    "my_list = [1, 2, 3, 4, 5]\n",
    "print(my_list[0:3])\n",
    "print(my_list[:3])\n",
    "print(my_list[2:])\n",
    "print(my_list[-1])"
   ]
  },
  {
   "cell_type": "code",
   "execution_count": 8,
   "id": "47b94bbf",
   "metadata": {},
   "outputs": [
    {
     "name": "stdout",
     "output_type": "stream",
     "text": [
      "[5, 4, 3, 2, 1]\n"
     ]
    }
   ],
   "source": [
    "# Reverse a list\n",
    "print(my_list[::-1])"
   ]
  },
  {
   "cell_type": "markdown",
   "id": "e1c2d9f3",
   "metadata": {},
   "source": [
    "#### append pop remove and insert"
   ]
  },
  {
   "cell_type": "code",
   "execution_count": 37,
   "id": "83fa639a",
   "metadata": {},
   "outputs": [
    {
     "name": "stdout",
     "output_type": "stream",
     "text": [
      "['a', 'b', 'c', 'd', 'e', 'f', 'g', 'h', 'i', 'j', 'd']\n"
     ]
    }
   ],
   "source": [
    "my_list = [\"a\", \"b\", \"c\", \"d\", \"e\", \"f\", \"g\", \"h\", \"i\", \"j\"]\n",
    "my_list.append(\"d\")\n",
    "print(my_list)\n",
    "\n",
    "# Lists can be used both as FIFO (Queue) and LIFO (Stack) data structures."
   ]
  },
  {
   "cell_type": "code",
   "execution_count": 38,
   "id": "c62e5434",
   "metadata": {},
   "outputs": [
    {
     "name": "stdout",
     "output_type": "stream",
     "text": [
      "d\n",
      "['a', 'b', 'c', 'd', 'e', 'f', 'g', 'h', 'i', 'j']\n"
     ]
    }
   ],
   "source": [
    "list_element = my_list.pop()\n",
    "print(list_element)\n",
    "print(my_list)"
   ]
  },
  {
   "cell_type": "code",
   "execution_count": 39,
   "id": "206a2371",
   "metadata": {},
   "outputs": [
    {
     "name": "stdout",
     "output_type": "stream",
     "text": [
      "['b', 'c', 'd', 'e', 'f', 'g', 'h', 'i', 'j']\n",
      "['b', 'd', 'e', 'f', 'g', 'h', 'i', 'j']\n"
     ]
    }
   ],
   "source": [
    "# pop using index\n",
    "my_list.pop(0)\n",
    "print(my_list)\n",
    "\n",
    "my_list.pop(1)\n",
    "print(my_list)"
   ]
  },
  {
   "cell_type": "code",
   "execution_count": 40,
   "id": "8bd180eb",
   "metadata": {},
   "outputs": [
    {
     "name": "stdout",
     "output_type": "stream",
     "text": [
      "['d', 'e', 'f', 'g', 'h', 'i', 'j']\n"
     ]
    }
   ],
   "source": [
    "# remove by value\n",
    "my_list.remove(\"b\")\n",
    "print(my_list)"
   ]
  },
  {
   "cell_type": "code",
   "execution_count": 41,
   "id": "6978950d",
   "metadata": {},
   "outputs": [
    {
     "name": "stdout",
     "output_type": "stream",
     "text": [
      "['a', 'd', 'e', 'f', 'g', 'h', 'i', 'j']\n"
     ]
    }
   ],
   "source": [
    "# list insert a value at a specific index\n",
    "my_list.insert(0, \"a\")\n",
    "print(my_list)"
   ]
  },
  {
   "cell_type": "markdown",
   "id": "68f0454c",
   "metadata": {},
   "source": [
    "##### Shallow and Deep Copy"
   ]
  },
  {
   "cell_type": "code",
   "execution_count": 49,
   "id": "d95cd06d",
   "metadata": {},
   "outputs": [
    {
     "name": "stdout",
     "output_type": "stream",
     "text": [
      "4901497792\n",
      "4901497792\n",
      "['A', 2, 3, 4, 5]\n",
      "4901602112\n",
      "4901751488\n",
      "[1, 2, 3, 4, 5]\n"
     ]
    }
   ],
   "source": [
    "# Shallow copy:\n",
    "my_list = [1, 2, 3, 4, 5]\n",
    "another_list = my_list\n",
    "print(id(my_list))\n",
    "print(id(another_list))\n",
    "\n",
    "# changes in one list will be reflected in the other\n",
    "my_list[0] = \"A\"\n",
    "print(another_list)\n",
    "\n",
    "# Deep copy:\n",
    "my_list = [1, 2, 3, 4, 5]\n",
    "another_list = my_list.copy()\n",
    "print(id(my_list))\n",
    "print(id(another_list))\n",
    "\n",
    "# changes in one list will not be reflected in the other\n",
    "my_list[0] = \"A\"\n",
    "print(another_list)"
   ]
  },
  {
   "cell_type": "markdown",
   "id": "1f02be7b",
   "metadata": {},
   "source": [
    "##### Split and Join"
   ]
  },
  {
   "cell_type": "code",
   "execution_count": 51,
   "id": "a54917b4",
   "metadata": {},
   "outputs": [
    {
     "name": "stdout",
     "output_type": "stream",
     "text": [
      "['This', 'is', 'a', 'sentence']\n"
     ]
    }
   ],
   "source": [
    "# default split on whitespace\n",
    "sentence = \"This is a sentence\"\n",
    "words_in_sentence = sentence.split()\n",
    "print(words_in_sentence)"
   ]
  },
  {
   "cell_type": "code",
   "execution_count": 54,
   "id": "d6871e82",
   "metadata": {},
   "outputs": [
    {
     "name": "stdout",
     "output_type": "stream",
     "text": [
      "['This is a paragraph', ' It has more than one sentence', ' This is the second sentence', '']\n"
     ]
    }
   ],
   "source": [
    "# split on a specific character\n",
    "paragraph = \"This is a paragraph. It has more than one sentence. This is the second sentence.\"\n",
    "sentences_in_paragraph = paragraph.split(\".\")\n",
    "print(sentences_in_paragraph)"
   ]
  },
  {
   "cell_type": "code",
   "execution_count": 57,
   "id": "a1b17219",
   "metadata": {},
   "outputs": [
    {
     "name": "stdout",
     "output_type": "stream",
     "text": [
      "This is a paragraph. It has more than one sentence. This is the second sentence.\n"
     ]
    }
   ],
   "source": [
    "# join a list of strings using a separator\n",
    "new_paragraph = \".\".join(sentences_in_paragraph)\n",
    "print(new_paragraph)"
   ]
  },
  {
   "cell_type": "markdown",
   "id": "02100053",
   "metadata": {},
   "source": [
    "##### List Operations"
   ]
  },
  {
   "cell_type": "code",
   "execution_count": 62,
   "id": "bca57135",
   "metadata": {},
   "outputs": [
    {
     "name": "stdout",
     "output_type": "stream",
     "text": [
      "['Hi', 'Hi', 'Hi']\n",
      "['Hi', 'Hi', 'Hi', 'Hi', 'Hi', 'Hi', 'Hi', 'Hi', 'Hi']\n"
     ]
    }
   ],
   "source": [
    "my_list = [\"Hi\"]\n",
    "my_list = my_list * 3\n",
    "print(my_list)\n",
    "print(my_list * 3)"
   ]
  },
  {
   "cell_type": "code",
   "execution_count": 63,
   "id": "68df029c",
   "metadata": {},
   "outputs": [
    {
     "name": "stdout",
     "output_type": "stream",
     "text": [
      "['Hi', 'Hi', 'Hi', 'Hello']\n"
     ]
    }
   ],
   "source": [
    "my_list = my_list + [\"Hello\"]\n",
    "print(my_list)"
   ]
  },
  {
   "cell_type": "code",
   "execution_count": 64,
   "id": "856d625f",
   "metadata": {},
   "outputs": [
    {
     "name": "stdout",
     "output_type": "stream",
     "text": [
      "4\n"
     ]
    }
   ],
   "source": [
    "# Length of a list\n",
    "print(len(my_list))"
   ]
  },
  {
   "cell_type": "code",
   "execution_count": 66,
   "id": "a82a2798",
   "metadata": {},
   "outputs": [
    {
     "name": "stdout",
     "output_type": "stream",
     "text": [
      "[0, 1, 2, 3, 4, 5, 6, 7, 8, 9]\n"
     ]
    }
   ],
   "source": [
    "# Sort a list\n",
    "my_list = [4, 3, 6, 8, 9, 0, 1, 2, 5, 7]\n",
    "print(sorted(my_list))"
   ]
  },
  {
   "cell_type": "code",
   "execution_count": 67,
   "id": "0684bdb9",
   "metadata": {},
   "outputs": [
    {
     "name": "stdout",
     "output_type": "stream",
     "text": [
      "9\n",
      "0\n"
     ]
    }
   ],
   "source": [
    "# Max and Min in a list\n",
    "print(max(my_list))\n",
    "print(min(my_list))"
   ]
  },
  {
   "cell_type": "markdown",
   "id": "b9b9ea2e",
   "metadata": {},
   "source": [
    "##### List Comprehensions"
   ]
  },
  {
   "cell_type": "code",
   "execution_count": 74,
   "id": "2fda0b3c",
   "metadata": {},
   "outputs": [
    {
     "name": "stdout",
     "output_type": "stream",
     "text": [
      "[1, 2, 3, 4, 5]\n",
      "[2, 4, 6, 8, 10]\n",
      "['odd', 2, 'odd', 4, 'odd']\n",
      "[2, 4]\n",
      "[0, 1, 2, 3, 4, 5, 6, 7, 8, 9]\n"
     ]
    }
   ],
   "source": [
    "# List comprehension\n",
    "my_list = [1, 2, 3, 4, 5]\n",
    "print(my_list)\n",
    "\n",
    "# calculate the square of each element\n",
    "print([x * 2 for x in my_list])\n",
    "\n",
    "# change the item based on the condition\n",
    "print([x if x % 2 == 0 else \"odd\" for x in my_list])\n",
    "\n",
    "# get the even numbers\n",
    "print([x for x in my_list if x % 2 == 0])\n",
    "\n",
    "# using iterables\n",
    "print([x for x in range(10)])"
   ]
  },
  {
   "cell_type": "code",
   "execution_count": 81,
   "id": "b82f6608",
   "metadata": {},
   "outputs": [
    {
     "name": "stdout",
     "output_type": "stream",
     "text": [
      "['This', 'is', 'a', 'paragraph', 'It', 'has', 'more', 'than', 'one', 'sentence', 'This', 'is', 'the', 'second', 'sentence']\n",
      "['This', 'It', 'This']\n"
     ]
    }
   ],
   "source": [
    "paragraph = \"This is a paragraph. It has more than one sentence. This is the second sentence.\"\n",
    "\n",
    "single_word_list = [word for sentence in paragraph.split('.') for word in sentence.split()]\n",
    "print(single_word_list)\n",
    "single_word_list = [word for sentence in paragraph.split('.') for word in sentence.split() if word[0].isupper()]\n",
    "print(single_word_list)"
   ]
  }
 ],
 "metadata": {
  "kernelspec": {
   "display_name": "Python 3.9.10 64-bit",
   "language": "python",
   "name": "python3"
  },
  "language_info": {
   "codemirror_mode": {
    "name": "ipython",
    "version": 3
   },
   "file_extension": ".py",
   "mimetype": "text/x-python",
   "name": "python",
   "nbconvert_exporter": "python",
   "pygments_lexer": "ipython3",
   "version": "3.9.10"
  },
  "vscode": {
   "interpreter": {
    "hash": "b0fa6594d8f4cbf19f97940f81e996739fb7646882a419484c72d19e05852a7e"
   }
  }
 },
 "nbformat": 4,
 "nbformat_minor": 5
}
