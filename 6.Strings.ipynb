{
 "cells": [
  {
   "cell_type": "markdown",
   "metadata": {},
   "source": [
    "## Strings\n",
    "- Array of bytes representing Unicode characters\n",
    "- Immutable\n",
    "- Indexed\n",
    "- Python does not have a character data type, a single character is a string of length 1"
   ]
  },
  {
   "cell_type": "code",
   "execution_count": 6,
   "metadata": {},
   "outputs": [
    {
     "name": "stdout",
     "output_type": "stream",
     "text": [
      "Hello World\n",
      "<class 'str'>\n"
     ]
    }
   ],
   "source": [
    "# Defining a string\n",
    "a = \"Hello World\"\n",
    "print(a)\n",
    "print(type(a))"
   ]
  },
  {
   "cell_type": "code",
   "execution_count": 8,
   "metadata": {},
   "outputs": [
    {
     "name": "stdout",
     "output_type": "stream",
     "text": [
      "H\n",
      "d\n",
      "o\n"
     ]
    }
   ],
   "source": [
    "# Accessing characters in a string\n",
    "print(a[0])\n",
    "print(a[-1])\n",
    "print(a[4])"
   ]
  },
  {
   "cell_type": "code",
   "execution_count": 9,
   "metadata": {},
   "outputs": [],
   "source": [
    "# Strings are immutable\n",
    "# Uncommenting the following line will cause an error\n",
    "# a[0] = \"B\""
   ]
  },
  {
   "cell_type": "code",
   "execution_count": 1,
   "metadata": {},
   "outputs": [
    {
     "name": "stdout",
     "output_type": "stream",
     "text": [
      "HELLO WORLD\n",
      "hello world\n"
     ]
    }
   ],
   "source": [
    "# Converting the case of a string\n",
    "\n",
    "lower_string = \"hello world\"\n",
    "print(lower_string.upper())\n",
    "\n",
    "upper_string = \"HELLO WORLD\"\n",
    "print(upper_string.lower())"
   ]
  },
  {
   "cell_type": "code",
   "execution_count": 2,
   "metadata": {},
   "outputs": [
    {
     "name": "stdout",
     "output_type": "stream",
     "text": [
      "hello world\n",
      "hello world  \n",
      "  hello world\n"
     ]
    }
   ],
   "source": [
    "# Removing space from the beginning and end of a string\n",
    "print(\"  hello world  \".strip())\n",
    "print(\"  hello world  \".lstrip())\n",
    "print(\"  hello world  \".rstrip())"
   ]
  },
  {
   "cell_type": "code",
   "execution_count": 3,
   "metadata": {},
   "outputs": [
    {
     "name": "stdout",
     "output_type": "stream",
     "text": [
      "hello worl\n",
      "hello world\n",
      "ello world\n",
      "hello worl\n"
     ]
    }
   ],
   "source": [
    "# Removing a specific character from the beginning and end of a string\n",
    "print(\"hello world\".strip(\"d\"))\n",
    "print(\"hello world\".lstrip(\"d\"))\n",
    "print(\"hello world\".lstrip(\"h\"))\n",
    "print(\"hello world\".rstrip(\"d\"))"
   ]
  },
  {
   "cell_type": "code",
   "execution_count": 4,
   "metadata": {},
   "outputs": [
    {
     "name": "stdout",
     "output_type": "stream",
     "text": [
      "Hello\n",
      "World\n",
      "llo\n",
      "World\n",
      "dlroW olleH\n",
      "HloWrd\n",
      "Worl\n",
      "W oll\n"
     ]
    }
   ],
   "source": [
    "# String Slicing\n",
    "sentence = \"Hello World\"\n",
    "print(sentence[:5])\n",
    "print(sentence[6:])\n",
    "print(sentence[2:5])\n",
    "print(sentence[-5:])\n",
    "print(sentence[::-1])\n",
    "print(sentence[::2])\n",
    "print(sentence[6:-1])\n",
    "print(sentence[6:-10:-1])"
   ]
  },
  {
   "cell_type": "code",
   "execution_count": 2,
   "metadata": {},
   "outputs": [
    {
     "name": "stdout",
     "output_type": "stream",
     "text": [
      "Hello World\n",
      "Hello 10\n"
     ]
    }
   ],
   "source": [
    "# String Concatenation\n",
    "a = \"Hello\"\n",
    "b = \"World\"\n",
    "print(a + \" \" + b)\n",
    "\n",
    "c = 10\n",
    "print(a + \" \" + str(c))"
   ]
  },
  {
   "cell_type": "code",
   "execution_count": 6,
   "metadata": {},
   "outputs": [
    {
     "name": "stdout",
     "output_type": "stream",
     "text": [
      "The value of a is Hello and the value of b is World\n"
     ]
    }
   ],
   "source": [
    "# f string\n",
    "print(f\"The value of a is {a} and the value of b is {b}\")"
   ]
  },
  {
   "cell_type": "code",
   "execution_count": null,
   "metadata": {},
   "outputs": [],
   "source": []
  }
 ],
 "metadata": {
  "kernelspec": {
   "display_name": "Python 3.9.10 64-bit",
   "language": "python",
   "name": "python3"
  },
  "language_info": {
   "codemirror_mode": {
    "name": "ipython",
    "version": 3
   },
   "file_extension": ".py",
   "mimetype": "text/x-python",
   "name": "python",
   "nbconvert_exporter": "python",
   "pygments_lexer": "ipython3",
   "version": "3.9.10"
  },
  "orig_nbformat": 4,
  "vscode": {
   "interpreter": {
    "hash": "b0fa6594d8f4cbf19f97940f81e996739fb7646882a419484c72d19e05852a7e"
   }
  }
 },
 "nbformat": 4,
 "nbformat_minor": 2
}
